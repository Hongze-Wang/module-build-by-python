{
 "cells": [
  {
   "cell_type": "code",
   "execution_count": 2,
   "metadata": {},
   "outputs": [
    {
     "name": "stdout",
     "output_type": "stream",
     "text": [
      "[['{3_1},{s0}', '{3_1:5_1}', [['{3_1}', 's', '{3_1:5_1}', '\"emptyset\"']], '\"emptyset\",{b}'], ['{3_1},{s0}', '{5_1}', [['{3_1}', 'q', '{5_1}', '{3_1}']], '{3_1},{b}'], ['{5_1},{s0}', '{3_1:5_1}', [['{5_1}', 's', '{3_1:5_1}', '\"emptyset\"']], '\"emptyset\",{b}'], ['{5_1},{s0}', '{5_1}', [['{5_1}', 'q', '{5_1}', '{3_1}']], '{3_1},{b}'], ['{5_1},{s0}', '{3_1}', [['{5_1}', 'p', '{3_1}', '{5_1}']], '{5_1},{b}']]\n"
     ]
    }
   ],
   "source": [
    "import os\n",
    "from graphviz import Digraph\n",
    "# os.environ[\"PATH\"] += os.pathsep + 'C:\\\\Users\\\\wangh\\\\Anaconda3\\\\envs\\\\tensorflow\\Library\\bin'\n",
    "\n",
    "file1 = \"transition.txt\"\n",
    "file2 = \"program.txt\"\n",
    "\n",
    "dot = Digraph(comment='cross_product', format='png')\n",
    "\n",
    "visit = []\n",
    "pro_list = []\n",
    "stack = []\n",
    "combine = []\n",
    "\n",
    "result = []\n",
    "\n",
    "with open(file2) as f2:\n",
    "    for line in f2.readlines():\n",
    "        line = line[1: -2]\n",
    "        line = line.split(';')\n",
    "        pro_list.append(line)\n",
    "\n",
    "        if line[0] == \"{s0}\":\n",
    "            stack.append(line[0])\n",
    "            visit.append(line[0])\n",
    "\n",
    "tran_list = []            \n",
    "\n",
    "with open(file1) as f1:\n",
    "    for line in f1.readlines():\n",
    "        line = line[1: -2]\n",
    "        line = line.split(';')\n",
    "        tran_list.append(line)\n",
    "            \n",
    "            \n",
    "tran = []\n",
    "\n",
    "f = open('result.txt', 'w')\n",
    "\n",
    "if(len(stack)):\n",
    "    elem = stack[-1]\n",
    "    for item in pro_list:\n",
    "        if item[0] == elem:\n",
    "            tran.append(item)\n",
    "\n",
    "    size1 = len(tran)\n",
    "    for t2 in tran:\n",
    "        if size1 >= 1:\n",
    "            size1 -= 1\n",
    "            size2 = len(tran_list)\n",
    "            for t1 in tran_list:\n",
    "                if len(t1) >= 4:\n",
    "                    print t2[1]\n",
    "                    print t1[1]\n",
    "                    if (t1[1].find(t2[1]) != -1) or t1[1] == 'true':\n",
    "                        n1 = t1[0] + ',' + t2[0]\n",
    "                        n2 = t1[-1] + ',' + t2[-1]\n",
    "                        dot.node(n1, n1)\n",
    "                        print n1\n",
    "                        dot.node(n2, n2)\n",
    "                        print n2\n",
    "                        dot.edge(n1, n2, t1[2])\n",
    "                        print t1[2]\n",
    "                        result.append([n1, t1[2], [t1], n2])\n",
    "                        f.write(str([[n1], [t1[2]], t1, [n2]]).replace('\\'',' ') + '\\n')\n",
    "\n",
    "                        if t2[-1] not in visit:\n",
    "                            stack.append(t2[-1])\n",
    "                            visit.append(t2[-1])\n",
    "dot.render(\"result\")\n",
    "\n",
    "print(result)"
   ]
  },
  {
   "cell_type": "code",
   "execution_count": null,
   "metadata": {},
   "outputs": [],
   "source": []
  },
  {
   "cell_type": "code",
   "execution_count": null,
   "metadata": {},
   "outputs": [],
   "source": []
  },
  {
   "cell_type": "code",
   "execution_count": null,
   "metadata": {},
   "outputs": [],
   "source": []
  }
 ],
 "metadata": {
  "kernelspec": {
   "display_name": "Python 3",
   "language": "python",
   "name": "python3"
  },
  "language_info": {
   "codemirror_mode": {
    "name": "ipython",
    "version": 3
   },
   "file_extension": ".py",
   "mimetype": "text/x-python",
   "name": "python",
   "nbconvert_exporter": "python",
   "pygments_lexer": "ipython3",
   "version": "3.6.7"
  }
 },
 "nbformat": 4,
 "nbformat_minor": 2
}
