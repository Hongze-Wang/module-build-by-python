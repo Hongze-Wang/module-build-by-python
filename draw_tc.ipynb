{
 "cells": [
  {
   "cell_type": "code",
   "execution_count": 4,
   "metadata": {},
   "outputs": [
    {
     "name": "stdout",
     "output_type": "stream",
     "text": [
      "[['{s0}', 'r', '{b}'], ['{b}', 'q', '{c}'], ['{c}', 'p', '{d}'], ['{f}', 's', '{d}'], ['{d}', 'p', '{g']]\n"
     ]
    },
    {
     "data": {
      "text/plain": [
       "'Digraph.gv.png'"
      ]
     },
     "execution_count": 4,
     "metadata": {},
     "output_type": "execute_result"
    }
   ],
   "source": [
    "import os\n",
    "from graphviz import Digraph\n",
    "os.environ[\"PATH\"] += os.pathsep + 'C:\\\\Users\\\\wangh\\\\Anaconda3\\\\envs\\\\tensorflow\\Library\\bin'\n",
    "\n",
    "filename = \"program.txt\"\n",
    "\n",
    "final = []\n",
    "combine = []\n",
    "\n",
    "with open(filename) as f:\n",
    "    for line in f.readlines():\n",
    "        line = line[1: -2]         #remove brackets\n",
    "        line = line.split(';')     #split with ','    \n",
    "        combine.append(line)\n",
    "\n",
    "print(combine)\n",
    "\n",
    "dot = Digraph(comment='Puchi Automataton', format='png')\n",
    "\n",
    "for item in combine:\n",
    "    dot.node(item[0], item[-1])\n",
    "    dot.edge(item[0], item[-1], item[1])\n",
    "\n",
    "dot.render()"
   ]
  },
  {
   "cell_type": "code",
   "execution_count": null,
   "metadata": {},
   "outputs": [],
   "source": []
  },
  {
   "cell_type": "code",
   "execution_count": null,
   "metadata": {},
   "outputs": [],
   "source": []
  },
  {
   "cell_type": "code",
   "execution_count": null,
   "metadata": {},
   "outputs": [],
   "source": []
  }
 ],
 "metadata": {
  "kernelspec": {
   "display_name": "Python 3",
   "language": "python",
   "name": "python3"
  },
  "language_info": {
   "codemirror_mode": {
    "name": "ipython",
    "version": 3
   },
   "file_extension": ".py",
   "mimetype": "text/x-python",
   "name": "python",
   "nbconvert_exporter": "python",
   "pygments_lexer": "ipython3",
   "version": "3.6.7"
  }
 },
 "nbformat": 4,
 "nbformat_minor": 2
}
