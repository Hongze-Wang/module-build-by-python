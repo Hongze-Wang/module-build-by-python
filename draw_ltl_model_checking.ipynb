{
 "cells": [
  {
   "cell_type": "markdown",
   "metadata": {},
   "source": [
    "This is a example of using Digraph from grphviz to draw a graph(data structure)\n",
    "\n",
    "It's a step in On-the-fly Verification of Linear Temporal Logic\n",
    "\n",
    "We read a file contain four tuple like this:\n",
    "({f},s,{f,g},\"emptyset\")\n",
    "({f},q,{f},{g})\n",
    "({f},p,{g},{f}).\n",
    "\n",
    "Where in every line first and last are nodes(state of a system), and remain are label(transition condition)"
   ]
  },
  {
   "cell_type": "code",
   "execution_count": null,
   "metadata": {},
   "outputs": [],
   "source": [
    "import os\n",
    "from graphviz import Digraph\n",
    "os.environ[\"PATH\"] += os.pathsep + 'C:\\\\Users\\\\wangh\\\\Anaconda3\\\\envs\\\\tensorflow\\Library\\bin'\n",
    "\n",
    "filename = \"transition.txt\"\n",
    "\n",
    "final = []\n",
    "\n",
    "with open(filename) as f:\n",
    "    for line in f.readlines():\n",
    "        line = line[1: -2]         #remove brackets\n",
    "        line = line.split(',')     #split with ','    \n",
    "        combine = []\n",
    "        for i in range(len(line)):\n",
    "            if '{' in line[i] and not '}' in line[i]:\n",
    "                combine.append(line[i] + ',' + line[i+1])\n",
    "            elif (not '{' in line[i] and '}' in line[i]):\n",
    "                continue\n",
    "            else:\n",
    "                combine.append(line[i])\n",
    "        final.append(combine)\n",
    "\n",
    "dot = Digraph(comment='Puchi Automataton', format='png')\n",
    "\n",
    "for item in final:\n",
    "    dot.edge(item[0], item[-1], item[1] + ',' + item[2])\n",
    "\n",
    "dot.render()"
   ]
  }
 ],
 "metadata": {
  "kernelspec": {
   "display_name": "Python 3",
   "language": "python",
   "name": "python3"
  },
  "language_info": {
   "codemirror_mode": {
    "name": "ipython",
    "version": 3
   },
   "file_extension": ".py",
   "mimetype": "text/x-python",
   "name": "python",
   "nbconvert_exporter": "python",
   "pygments_lexer": "ipython3",
   "version": "3.6.7"
  }
 },
 "nbformat": 4,
 "nbformat_minor": 2
}
